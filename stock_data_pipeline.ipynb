{
 "cells": [
  {
   "cell_type": "code",
   "execution_count": 1,
   "metadata": {},
   "outputs": [],
   "source": [
    "import pandas as pd\n",
    "from pandas.io.json import json_normalize \n",
    "import numpy as np\n",
    "import json\n",
    "import urllib.request"
   ]
  },
  {
   "cell_type": "code",
   "execution_count": 2,
   "metadata": {},
   "outputs": [],
   "source": [
    "API_url = \"https://www.alphavantage.co/query?function=TIME_SERIES_DAILY&symbol=TSLA&interval=5min&outputsize=full&apikey=VOI03MVRS6FO3IWR\""
   ]
  },
  {
   "cell_type": "code",
   "execution_count": 3,
   "metadata": {},
   "outputs": [],
   "source": [
    "with urllib.request.urlopen(API_url) as response:\n",
    "   data_1 = json.loads(response.read())"
   ]
  },
  {
   "cell_type": "code",
   "execution_count": 4,
   "metadata": {},
   "outputs": [],
   "source": [
    "df = pd.DataFrame()\n",
    "for key in data_1['Time Series (Daily)']:\n",
    "    x = json_normalize(data=data_1['Time Series (Daily)'][key])\n",
    "    x['Time'] = key\n",
    "    df = df.append(x,sort=False)\n",
    "df = df.reset_index()"
   ]
  },
  {
   "cell_type": "code",
   "execution_count": 5,
   "metadata": {},
   "outputs": [
    {
     "data": {
      "text/html": [
       "<div>\n",
       "<style scoped>\n",
       "    .dataframe tbody tr th:only-of-type {\n",
       "        vertical-align: middle;\n",
       "    }\n",
       "\n",
       "    .dataframe tbody tr th {\n",
       "        vertical-align: top;\n",
       "    }\n",
       "\n",
       "    .dataframe thead th {\n",
       "        text-align: right;\n",
       "    }\n",
       "</style>\n",
       "<table border=\"1\" class=\"dataframe\">\n",
       "  <thead>\n",
       "    <tr style=\"text-align: right;\">\n",
       "      <th></th>\n",
       "      <th>index</th>\n",
       "      <th>1. open</th>\n",
       "      <th>2. high</th>\n",
       "      <th>3. low</th>\n",
       "      <th>4. close</th>\n",
       "      <th>5. volume</th>\n",
       "      <th>Time</th>\n",
       "    </tr>\n",
       "  </thead>\n",
       "  <tbody>\n",
       "    <tr>\n",
       "      <th>0</th>\n",
       "      <td>0</td>\n",
       "      <td>507.6100</td>\n",
       "      <td>515.6699</td>\n",
       "      <td>503.1600</td>\n",
       "      <td>510.5000</td>\n",
       "      <td>13399785</td>\n",
       "      <td>2020-01-17</td>\n",
       "    </tr>\n",
       "    <tr>\n",
       "      <th>1</th>\n",
       "      <td>0</td>\n",
       "      <td>493.7500</td>\n",
       "      <td>514.4600</td>\n",
       "      <td>492.1700</td>\n",
       "      <td>513.4900</td>\n",
       "      <td>21736653</td>\n",
       "      <td>2020-01-16</td>\n",
       "    </tr>\n",
       "    <tr>\n",
       "      <th>2</th>\n",
       "      <td>0</td>\n",
       "      <td>529.7600</td>\n",
       "      <td>537.8400</td>\n",
       "      <td>516.7853</td>\n",
       "      <td>518.5000</td>\n",
       "      <td>17368831</td>\n",
       "      <td>2020-01-15</td>\n",
       "    </tr>\n",
       "    <tr>\n",
       "      <th>3</th>\n",
       "      <td>0</td>\n",
       "      <td>544.2550</td>\n",
       "      <td>547.4100</td>\n",
       "      <td>524.9000</td>\n",
       "      <td>537.9200</td>\n",
       "      <td>29061377</td>\n",
       "      <td>2020-01-14</td>\n",
       "    </tr>\n",
       "    <tr>\n",
       "      <th>4</th>\n",
       "      <td>0</td>\n",
       "      <td>493.5000</td>\n",
       "      <td>525.6300</td>\n",
       "      <td>492.0000</td>\n",
       "      <td>524.8600</td>\n",
       "      <td>26307458</td>\n",
       "      <td>2020-01-13</td>\n",
       "    </tr>\n",
       "  </tbody>\n",
       "</table>\n",
       "</div>"
      ],
      "text/plain": [
       "   index   1. open   2. high    3. low  4. close 5. volume        Time\n",
       "0      0  507.6100  515.6699  503.1600  510.5000  13399785  2020-01-17\n",
       "1      0  493.7500  514.4600  492.1700  513.4900  21736653  2020-01-16\n",
       "2      0  529.7600  537.8400  516.7853  518.5000  17368831  2020-01-15\n",
       "3      0  544.2550  547.4100  524.9000  537.9200  29061377  2020-01-14\n",
       "4      0  493.5000  525.6300  492.0000  524.8600  26307458  2020-01-13"
      ]
     },
     "execution_count": 5,
     "metadata": {},
     "output_type": "execute_result"
    }
   ],
   "source": [
    "df.head()"
   ]
  },
  {
   "cell_type": "code",
   "execution_count": 6,
   "metadata": {},
   "outputs": [],
   "source": [
    "df['daily_return'] = pd.to_numeric(df['4. close']).pct_change(-1)"
   ]
  },
  {
   "cell_type": "code",
   "execution_count": 7,
   "metadata": {},
   "outputs": [],
   "source": [
    "df['timestamp'] = pd.to_datetime(df['Time'])"
   ]
  },
  {
   "cell_type": "code",
   "execution_count": 8,
   "metadata": {},
   "outputs": [],
   "source": [
    "df = df.drop(columns = ['Time'])"
   ]
  },
  {
   "cell_type": "code",
   "execution_count": 9,
   "metadata": {},
   "outputs": [
    {
     "data": {
      "text/html": [
       "<div>\n",
       "<style scoped>\n",
       "    .dataframe tbody tr th:only-of-type {\n",
       "        vertical-align: middle;\n",
       "    }\n",
       "\n",
       "    .dataframe tbody tr th {\n",
       "        vertical-align: top;\n",
       "    }\n",
       "\n",
       "    .dataframe thead th {\n",
       "        text-align: right;\n",
       "    }\n",
       "</style>\n",
       "<table border=\"1\" class=\"dataframe\">\n",
       "  <thead>\n",
       "    <tr style=\"text-align: right;\">\n",
       "      <th></th>\n",
       "      <th>index</th>\n",
       "      <th>1. open</th>\n",
       "      <th>2. high</th>\n",
       "      <th>3. low</th>\n",
       "      <th>4. close</th>\n",
       "      <th>5. volume</th>\n",
       "      <th>daily_return</th>\n",
       "      <th>timestamp</th>\n",
       "    </tr>\n",
       "  </thead>\n",
       "  <tbody>\n",
       "    <tr>\n",
       "      <th>0</th>\n",
       "      <td>0</td>\n",
       "      <td>507.6100</td>\n",
       "      <td>515.6699</td>\n",
       "      <td>503.1600</td>\n",
       "      <td>510.5000</td>\n",
       "      <td>13399785</td>\n",
       "      <td>-0.005823</td>\n",
       "      <td>2020-01-17</td>\n",
       "    </tr>\n",
       "    <tr>\n",
       "      <th>1</th>\n",
       "      <td>0</td>\n",
       "      <td>493.7500</td>\n",
       "      <td>514.4600</td>\n",
       "      <td>492.1700</td>\n",
       "      <td>513.4900</td>\n",
       "      <td>21736653</td>\n",
       "      <td>-0.009662</td>\n",
       "      <td>2020-01-16</td>\n",
       "    </tr>\n",
       "    <tr>\n",
       "      <th>2</th>\n",
       "      <td>0</td>\n",
       "      <td>529.7600</td>\n",
       "      <td>537.8400</td>\n",
       "      <td>516.7853</td>\n",
       "      <td>518.5000</td>\n",
       "      <td>17368831</td>\n",
       "      <td>-0.036102</td>\n",
       "      <td>2020-01-15</td>\n",
       "    </tr>\n",
       "    <tr>\n",
       "      <th>3</th>\n",
       "      <td>0</td>\n",
       "      <td>544.2550</td>\n",
       "      <td>547.4100</td>\n",
       "      <td>524.9000</td>\n",
       "      <td>537.9200</td>\n",
       "      <td>29061377</td>\n",
       "      <td>0.024883</td>\n",
       "      <td>2020-01-14</td>\n",
       "    </tr>\n",
       "    <tr>\n",
       "      <th>4</th>\n",
       "      <td>0</td>\n",
       "      <td>493.5000</td>\n",
       "      <td>525.6300</td>\n",
       "      <td>492.0000</td>\n",
       "      <td>524.8600</td>\n",
       "      <td>26307458</td>\n",
       "      <td>0.097689</td>\n",
       "      <td>2020-01-13</td>\n",
       "    </tr>\n",
       "  </tbody>\n",
       "</table>\n",
       "</div>"
      ],
      "text/plain": [
       "   index   1. open   2. high    3. low  4. close 5. volume  daily_return  \\\n",
       "0      0  507.6100  515.6699  503.1600  510.5000  13399785     -0.005823   \n",
       "1      0  493.7500  514.4600  492.1700  513.4900  21736653     -0.009662   \n",
       "2      0  529.7600  537.8400  516.7853  518.5000  17368831     -0.036102   \n",
       "3      0  544.2550  547.4100  524.9000  537.9200  29061377      0.024883   \n",
       "4      0  493.5000  525.6300  492.0000  524.8600  26307458      0.097689   \n",
       "\n",
       "   timestamp  \n",
       "0 2020-01-17  \n",
       "1 2020-01-16  \n",
       "2 2020-01-15  \n",
       "3 2020-01-14  \n",
       "4 2020-01-13  "
      ]
     },
     "execution_count": 9,
     "metadata": {},
     "output_type": "execute_result"
    }
   ],
   "source": [
    "df.head()"
   ]
  },
  {
   "cell_type": "code",
   "execution_count": 10,
   "metadata": {},
   "outputs": [],
   "source": [
    "df = df.sort_values(by = ['timestamp']).reset_index()"
   ]
  },
  {
   "cell_type": "code",
   "execution_count": 11,
   "metadata": {},
   "outputs": [
    {
     "data": {
      "text/html": [
       "<div>\n",
       "<style scoped>\n",
       "    .dataframe tbody tr th:only-of-type {\n",
       "        vertical-align: middle;\n",
       "    }\n",
       "\n",
       "    .dataframe tbody tr th {\n",
       "        vertical-align: top;\n",
       "    }\n",
       "\n",
       "    .dataframe thead th {\n",
       "        text-align: right;\n",
       "    }\n",
       "</style>\n",
       "<table border=\"1\" class=\"dataframe\">\n",
       "  <thead>\n",
       "    <tr style=\"text-align: right;\">\n",
       "      <th></th>\n",
       "      <th>level_0</th>\n",
       "      <th>index</th>\n",
       "      <th>1. open</th>\n",
       "      <th>2. high</th>\n",
       "      <th>3. low</th>\n",
       "      <th>4. close</th>\n",
       "      <th>5. volume</th>\n",
       "      <th>daily_return</th>\n",
       "      <th>timestamp</th>\n",
       "    </tr>\n",
       "  </thead>\n",
       "  <tbody>\n",
       "    <tr>\n",
       "      <th>0</th>\n",
       "      <td>2405</td>\n",
       "      <td>0</td>\n",
       "      <td>19.0000</td>\n",
       "      <td>25.0000</td>\n",
       "      <td>17.5400</td>\n",
       "      <td>23.8900</td>\n",
       "      <td>18766300</td>\n",
       "      <td>NaN</td>\n",
       "      <td>2010-06-29</td>\n",
       "    </tr>\n",
       "    <tr>\n",
       "      <th>1</th>\n",
       "      <td>2404</td>\n",
       "      <td>0</td>\n",
       "      <td>25.7900</td>\n",
       "      <td>30.4192</td>\n",
       "      <td>23.3000</td>\n",
       "      <td>23.8300</td>\n",
       "      <td>17187100</td>\n",
       "      <td>-0.002512</td>\n",
       "      <td>2010-06-30</td>\n",
       "    </tr>\n",
       "    <tr>\n",
       "      <th>2</th>\n",
       "      <td>2403</td>\n",
       "      <td>0</td>\n",
       "      <td>25.0000</td>\n",
       "      <td>25.9200</td>\n",
       "      <td>20.2700</td>\n",
       "      <td>21.9600</td>\n",
       "      <td>8218800</td>\n",
       "      <td>-0.078473</td>\n",
       "      <td>2010-07-01</td>\n",
       "    </tr>\n",
       "    <tr>\n",
       "      <th>3</th>\n",
       "      <td>2402</td>\n",
       "      <td>0</td>\n",
       "      <td>23.0000</td>\n",
       "      <td>23.1000</td>\n",
       "      <td>18.7100</td>\n",
       "      <td>19.2000</td>\n",
       "      <td>5139800</td>\n",
       "      <td>-0.125683</td>\n",
       "      <td>2010-07-02</td>\n",
       "    </tr>\n",
       "    <tr>\n",
       "      <th>4</th>\n",
       "      <td>2401</td>\n",
       "      <td>0</td>\n",
       "      <td>20.0000</td>\n",
       "      <td>20.0000</td>\n",
       "      <td>15.8300</td>\n",
       "      <td>16.1100</td>\n",
       "      <td>6866900</td>\n",
       "      <td>-0.160937</td>\n",
       "      <td>2010-07-06</td>\n",
       "    </tr>\n",
       "  </tbody>\n",
       "</table>\n",
       "</div>"
      ],
      "text/plain": [
       "   level_0  index  1. open  2. high   3. low 4. close 5. volume  daily_return  \\\n",
       "0     2405      0  19.0000  25.0000  17.5400  23.8900  18766300           NaN   \n",
       "1     2404      0  25.7900  30.4192  23.3000  23.8300  17187100     -0.002512   \n",
       "2     2403      0  25.0000  25.9200  20.2700  21.9600   8218800     -0.078473   \n",
       "3     2402      0  23.0000  23.1000  18.7100  19.2000   5139800     -0.125683   \n",
       "4     2401      0  20.0000  20.0000  15.8300  16.1100   6866900     -0.160937   \n",
       "\n",
       "   timestamp  \n",
       "0 2010-06-29  \n",
       "1 2010-06-30  \n",
       "2 2010-07-01  \n",
       "3 2010-07-02  \n",
       "4 2010-07-06  "
      ]
     },
     "execution_count": 11,
     "metadata": {},
     "output_type": "execute_result"
    }
   ],
   "source": [
    "df.head()"
   ]
  },
  {
   "cell_type": "code",
   "execution_count": 12,
   "metadata": {},
   "outputs": [
    {
     "name": "stdout",
     "output_type": "stream",
     "text": [
      "<class 'pandas.core.frame.DataFrame'>\n",
      "RangeIndex: 2406 entries, 0 to 2405\n",
      "Data columns (total 9 columns):\n",
      "level_0         2406 non-null int64\n",
      "index           2406 non-null int64\n",
      "1. open         2406 non-null object\n",
      "2. high         2406 non-null object\n",
      "3. low          2406 non-null object\n",
      "4. close        2406 non-null object\n",
      "5. volume       2406 non-null object\n",
      "daily_return    2405 non-null float64\n",
      "timestamp       2406 non-null datetime64[ns]\n",
      "dtypes: datetime64[ns](1), float64(1), int64(2), object(5)\n",
      "memory usage: 169.3+ KB\n"
     ]
    }
   ],
   "source": [
    "df.info()"
   ]
  },
  {
   "cell_type": "code",
   "execution_count": 13,
   "metadata": {},
   "outputs": [],
   "source": [
    "%matplotlib inline\n",
    "\n",
    "import matplotlib\n",
    "import matplotlib.pyplot as plt"
   ]
  },
  {
   "cell_type": "code",
   "execution_count": 14,
   "metadata": {},
   "outputs": [
    {
     "data": {
      "image/png": "[encoded data removed]",
      "text/plain": [
       "<Figure size 432x288 with 1 Axes>"
      ]
     },
     "metadata": {
      "needs_background": "light"
     },
     "output_type": "display_data"
    }
   ],
   "source": [
    "# create a figure and axis\n",
    "fig, ax = plt.subplots()\n",
    "\n",
    "# scatter the sepal_length against the sepal_width\n",
    "ax.scatter(df['timestamp'].astype('str'), df['daily_return'])\n",
    "# set a title and labels\n",
    "ax.set_title('Stock scatterplot')\n",
    "ax.set_xlabel('time')\n",
    "ax.set_ylabel('daily return')\n",
    "plt.xticks(rotation=90)\n",
    "xmin, xmax = ax.get_xlim()\n",
    "ax.set_xticks(np.round(np.linspace(xmin, xmax, 12), 2))\n",
    "plt.show()"
   ]
  },
  {
   "cell_type": "code",
   "execution_count": 15,
   "metadata": {},
   "outputs": [
    {
     "data": {
      "image/png": "[encoded data removed]",
      "text/plain": [
       "<Figure size 432x288 with 1 Axes>"
      ]
     },
     "metadata": {
      "needs_background": "light"
     },
     "output_type": "display_data"
    }
   ],
   "source": [
    "# create a figure and axis\n",
    "fig, ax = plt.subplots()\n",
    "\n",
    "# scatter the sepal_length against the sepal_width\n",
    "ax.plot(df['timestamp'].astype('str'), df['daily_return'])\n",
    "# set a title and labels\n",
    "ax.set_title('Stock scatterplot')\n",
    "ax.set_xlabel('time')\n",
    "ax.set_ylabel('daily return')\n",
    "xmin, xmax = ax.get_xlim()\n",
    "plt.xticks(rotation=90)\n",
    "ax.set_xticks(np.round(np.linspace(xmin, xmax, 12), 2))\n",
    "plt.show()"
   ]
  },
  {
   "cell_type": "code",
   "execution_count": 16,
   "metadata": {},
   "outputs": [
    {
     "data": {
      "image/png": "[encoded data removed]",
      "text/plain": [
       "<Figure size 432x288 with 1 Axes>"
      ]
     },
     "metadata": {
      "needs_background": "light"
     },
     "output_type": "display_data"
    }
   ],
   "source": [
    "# create a figure and axis\n",
    "fig, ax = plt.subplots()\n",
    "\n",
    "# scatter the sepal_length against the sepal_width\n",
    "ax.plot(df['timestamp'].astype('str'), df['4. close'].astype('float'))\n",
    "# set a title and labels\n",
    "ax.set_title('Stock Line graph')\n",
    "ax.set_xlabel('time')\n",
    "ax.set_ylabel('daily return')\n",
    "xmin, xmax = ax.get_xlim()\n",
    "plt.xticks(rotation=90)\n",
    "ax.set_xticks(np.round(np.linspace(xmin, xmax, 12), 2))\n",
    "plt.show()"
   ]
  },
  {
   "cell_type": "code",
   "execution_count": 17,
   "metadata": {},
   "outputs": [
    {
     "name": "stdout",
     "output_type": "stream",
     "text": [
      "level_0                  int64\n",
      "index                    int64\n",
      "1. open                float64\n",
      "2. high                float64\n",
      "3. low                 float64\n",
      "4. close               float64\n",
      "5. volume                int64\n",
      "daily_return           float64\n",
      "timestamp       datetime64[ns]\n",
      "dtype: object\n"
     ]
    }
   ],
   "source": [
    "df[['1. open', '2. high', '3. low', '4. close', '5. volume']] = df[['1. open', '2. high', '3. low', '4. close', '5. volume']].apply(pd.to_numeric) \n",
    "print(df.dtypes) "
   ]
  },
  {
   "cell_type": "code",
   "execution_count": 18,
   "metadata": {},
   "outputs": [],
   "source": [
    "import seaborn as sns"
   ]
  },
  {
   "cell_type": "code",
   "execution_count": 19,
   "metadata": {},
   "outputs": [
    {
     "name": "stderr",
     "output_type": "stream",
     "text": [
      "C:\\Users\\mistr\\Anaconda3\\lib\\site-packages\\pandas\\plotting\\_matplotlib\\converter.py:103: FutureWarning: Using an implicitly registered datetime converter for a matplotlib plotting method. The converter was registered by pandas on import. Future versions of pandas will require you to explicitly register matplotlib converters.\n",
      "\n",
      "To register the converters:\n",
      "\t>>> from pandas.plotting import register_matplotlib_converters\n",
      "\t>>> register_matplotlib_converters()\n",
      "  warnings.warn(msg, FutureWarning)\n"
     ]
    },
    {
     "data": {
      "text/plain": [
       "<matplotlib.axes._subplots.AxesSubplot at 0x1fe1f957908>"
      ]
     },
     "execution_count": 19,
     "metadata": {},
     "output_type": "execute_result"
    },
    {
     "data": {
      "image/png": "[encoded data removed]",
      "text/plain": [
       "<Figure size 432x288 with 1 Axes>"
      ]
     },
     "metadata": {
      "needs_background": "light"
     },
     "output_type": "display_data"
    }
   ],
   "source": [
    "sns.lineplot(x='timestamp', y='daily_return', data=df)"
   ]
  },
  {
   "cell_type": "code",
   "execution_count": 20,
   "metadata": {},
   "outputs": [
    {
     "data": {
      "text/plain": [
       "<matplotlib.axes._subplots.AxesSubplot at 0x1fe1e8763c8>"
      ]
     },
     "execution_count": 20,
     "metadata": {},
     "output_type": "execute_result"
    },
    {
     "data": {
      "image/png": "[encoded data removed]",
      "text/plain": [
       "<Figure size 432x288 with 1 Axes>"
      ]
     },
     "metadata": {
      "needs_background": "light"
     },
     "output_type": "display_data"
    }
   ],
   "source": [
    "sns.lineplot(x='timestamp', y='4. close', data=df)"
   ]
  },
  {
   "cell_type": "code",
   "execution_count": 21,
   "metadata": {},
   "outputs": [
    {
     "data": {
      "text/plain": [
       "<matplotlib.axes._subplots.AxesSubplot at 0x1fe20a2ea08>"
      ]
     },
     "execution_count": 21,
     "metadata": {},
     "output_type": "execute_result"
    },
    {
     "data": {
      "image/png": "[encoded data removed]",
      "text/plain": [
       "<Figure size 432x288 with 1 Axes>"
      ]
     },
     "metadata": {
      "needs_background": "light"
     },
     "output_type": "display_data"
    }
   ],
   "source": [
    "sns.lineplot(x='timestamp', y='5. volume', data=df)"
   ]
  },
  {
   "cell_type": "code",
   "execution_count": 22,
   "metadata": {},
   "outputs": [],
   "source": [
    "from sklearn import preprocessing"
   ]
  },
  {
   "cell_type": "code",
   "execution_count": 23,
   "metadata": {},
   "outputs": [],
   "source": [
    "df = df.drop(columns = ['level_0', 'index'])"
   ]
  },
  {
   "cell_type": "code",
   "execution_count": 27,
   "metadata": {},
   "outputs": [
    {
     "data": {
      "text/html": [
       "<div>\n",
       "<style scoped>\n",
       "    .dataframe tbody tr th:only-of-type {\n",
       "        vertical-align: middle;\n",
       "    }\n",
       "\n",
       "    .dataframe tbody tr th {\n",
       "        vertical-align: top;\n",
       "    }\n",
       "\n",
       "    .dataframe thead th {\n",
       "        text-align: right;\n",
       "    }\n",
       "</style>\n",
       "<table border=\"1\" class=\"dataframe\">\n",
       "  <thead>\n",
       "    <tr style=\"text-align: right;\">\n",
       "      <th></th>\n",
       "      <th>1. open</th>\n",
       "      <th>2. high</th>\n",
       "      <th>3. low</th>\n",
       "      <th>4. close</th>\n",
       "      <th>5. volume</th>\n",
       "      <th>daily_return</th>\n",
       "    </tr>\n",
       "  </thead>\n",
       "  <tbody>\n",
       "    <tr>\n",
       "      <th>count</th>\n",
       "      <td>2406.000000</td>\n",
       "      <td>2406.000000</td>\n",
       "      <td>2406.000000</td>\n",
       "      <td>2406.000000</td>\n",
       "      <td>2.406000e+03</td>\n",
       "      <td>2405.000000</td>\n",
       "    </tr>\n",
       "    <tr>\n",
       "      <th>mean</th>\n",
       "      <td>184.613611</td>\n",
       "      <td>187.821741</td>\n",
       "      <td>181.276832</td>\n",
       "      <td>184.671702</td>\n",
       "      <td>5.499145e+06</td>\n",
       "      <td>0.001796</td>\n",
       "    </tr>\n",
       "    <tr>\n",
       "      <th>std</th>\n",
       "      <td>116.112925</td>\n",
       "      <td>117.949446</td>\n",
       "      <td>114.244953</td>\n",
       "      <td>116.226035</td>\n",
       "      <td>4.838383e+06</td>\n",
       "      <td>0.032469</td>\n",
       "    </tr>\n",
       "    <tr>\n",
       "      <th>min</th>\n",
       "      <td>16.140000</td>\n",
       "      <td>16.630000</td>\n",
       "      <td>14.980000</td>\n",
       "      <td>15.800000</td>\n",
       "      <td>1.185000e+05</td>\n",
       "      <td>-0.193274</td>\n",
       "    </tr>\n",
       "    <tr>\n",
       "      <th>25%</th>\n",
       "      <td>34.270000</td>\n",
       "      <td>34.855000</td>\n",
       "      <td>33.565000</td>\n",
       "      <td>34.380000</td>\n",
       "      <td>1.883677e+06</td>\n",
       "      <td>-0.014300</td>\n",
       "    </tr>\n",
       "    <tr>\n",
       "      <th>50%</th>\n",
       "      <td>212.575000</td>\n",
       "      <td>216.494950</td>\n",
       "      <td>208.420000</td>\n",
       "      <td>212.325000</td>\n",
       "      <td>4.547366e+06</td>\n",
       "      <td>0.000845</td>\n",
       "    </tr>\n",
       "    <tr>\n",
       "      <th>75%</th>\n",
       "      <td>264.752500</td>\n",
       "      <td>269.419975</td>\n",
       "      <td>260.752500</td>\n",
       "      <td>265.417500</td>\n",
       "      <td>7.309598e+06</td>\n",
       "      <td>0.018021</td>\n",
       "    </tr>\n",
       "    <tr>\n",
       "      <th>max</th>\n",
       "      <td>544.255000</td>\n",
       "      <td>547.410000</td>\n",
       "      <td>524.900000</td>\n",
       "      <td>537.920000</td>\n",
       "      <td>3.716390e+07</td>\n",
       "      <td>0.244029</td>\n",
       "    </tr>\n",
       "  </tbody>\n",
       "</table>\n",
       "</div>"
      ],
      "text/plain": [
       "           1. open      2. high       3. low     4. close     5. volume  \\\n",
       "count  2406.000000  2406.000000  2406.000000  2406.000000  2.406000e+03   \n",
       "mean    184.613611   187.821741   181.276832   184.671702  5.499145e+06   \n",
       "std     116.112925   117.949446   114.244953   116.226035  4.838383e+06   \n",
       "min      16.140000    16.630000    14.980000    15.800000  1.185000e+05   \n",
       "25%      34.270000    34.855000    33.565000    34.380000  1.883677e+06   \n",
       "50%     212.575000   216.494950   208.420000   212.325000  4.547366e+06   \n",
       "75%     264.752500   269.419975   260.752500   265.417500  7.309598e+06   \n",
       "max     544.255000   547.410000   524.900000   537.920000  3.716390e+07   \n",
       "\n",
       "       daily_return  \n",
       "count   2405.000000  \n",
       "mean       0.001796  \n",
       "std        0.032469  \n",
       "min       -0.193274  \n",
       "25%       -0.014300  \n",
       "50%        0.000845  \n",
       "75%        0.018021  \n",
       "max        0.244029  "
      ]
     },
     "execution_count": 27,
     "metadata": {},
     "output_type": "execute_result"
    }
   ],
   "source": [
    "df.describe()"
   ]
  },
  {
   "cell_type": "code",
   "execution_count": 32,
   "metadata": {},
   "outputs": [
    {
     "data": {
      "text/plain": [
       "1684.1999999999998"
      ]
     },
     "execution_count": 32,
     "metadata": {},
     "output_type": "execute_result"
    }
   ],
   "source": [
    "len(df)*0.7"
   ]
  },
  {
   "cell_type": "code",
   "execution_count": 37,
   "metadata": {},
   "outputs": [],
   "source": [
    "train_df = df.drop(columns = ['timestamp']).values[:1684]"
   ]
  },
  {
   "cell_type": "code",
   "execution_count": 38,
   "metadata": {},
   "outputs": [],
   "source": [
    "test_df = df.drop(columns = ['timestamp']).values[1684:]"
   ]
  },
  {
   "cell_type": "code",
   "execution_count": 39,
   "metadata": {},
   "outputs": [
    {
     "data": {
      "text/plain": [
       "array([[ 1.90000000e+01,  2.50000000e+01,  1.75400000e+01,\n",
       "         2.38900000e+01,  1.87663000e+07,             nan],\n",
       "       [ 2.57900000e+01,  3.04192000e+01,  2.33000000e+01,\n",
       "         2.38300000e+01,  1.71871000e+07, -2.51151109e-03],\n",
       "       [ 2.50000000e+01,  2.59200000e+01,  2.02700000e+01,\n",
       "         2.19600000e+01,  8.21880000e+06, -7.84725136e-02],\n",
       "       ...,\n",
       "       [ 2.50740000e+02,  2.51900000e+02,  2.49000000e+02,\n",
       "         2.51570000e+02,  2.92923400e+06,  4.35164484e-03],\n",
       "       [ 2.47910000e+02,  2.51700000e+02,  2.47510000e+02,\n",
       "         2.51210000e+02,  3.35550000e+06, -1.43101324e-03],\n",
       "       [ 2.51920000e+02,  2.53890000e+02,  2.48320000e+02,\n",
       "         2.48590000e+02,  3.45947000e+06, -1.04295211e-02]])"
      ]
     },
     "execution_count": 39,
     "metadata": {},
     "output_type": "execute_result"
    }
   ],
   "source": [
    "train_df"
   ]
  },
  {
   "cell_type": "code",
   "execution_count": 40,
   "metadata": {},
   "outputs": [],
   "source": [
    "#data_normaliser = preprocessing.MinMaxScaler()\n",
    "#data_normalised = data_normaliser.fit_transform(df.drop(columns = ['timestamp']))"
   ]
  },
  {
   "cell_type": "code",
   "execution_count": 41,
   "metadata": {},
   "outputs": [
    {
     "data": {
      "text/plain": [
       "numpy.ndarray"
      ]
     },
     "execution_count": 41,
     "metadata": {},
     "output_type": "execute_result"
    }
   ],
   "source": [
    "#type(data_normalised)"
   ]
  },
  {
   "cell_type": "code",
   "execution_count": 43,
   "metadata": {},
   "outputs": [],
   "source": [
    "data_normalizer = preprocessing.MinMaxScaler()\n",
    "train_data = train_df.reshape(-1,1)\n",
    "test_data = test_df.reshape(-1,1)"
   ]
  },
  {
   "cell_type": "code",
   "execution_count": 47,
   "metadata": {},
   "outputs": [
    {
     "data": {
      "text/plain": [
       "(10104, 1)"
      ]
     },
     "execution_count": 47,
     "metadata": {},
     "output_type": "execute_result"
    }
   ],
   "source": [
    "train_data.shape"
   ]
  },
  {
   "cell_type": "code",
   "execution_count": 48,
   "metadata": {},
   "outputs": [],
   "source": [
    "# Train the Scaler with training data and smooth data\n",
    "smoothing_window_size = 2500\n",
    "for di in range(0,10000,smoothing_window_size):\n",
    "    data_normalizer.fit(train_data[di:di+smoothing_window_size,:])\n",
    "    train_data[di:di+smoothing_window_size,:] = data_normalizer.transform(train_data[di:di+smoothing_window_size,:])\n",
    "\n",
    "# You normalize the last bit of remaining data\n",
    "data_normalizer.fit(train_data[di+smoothing_window_size:,:])\n",
    "train_data[di+smoothing_window_size:,:] = data_normalizer.transform(train_data[di+smoothing_window_size:,:])"
   ]
  },
  {
   "cell_type": "code",
   "execution_count": 49,
   "metadata": {},
   "outputs": [
    {
     "data": {
      "text/plain": [
       "array([[1.02275217e-06],\n",
       "       [1.34247423e-06],\n",
       "       [9.44953142e-07],\n",
       "       ...,\n",
       "       [1.66711300e-05],\n",
       "       [2.31941823e-01],\n",
       "       [3.59542355e-09]])"
      ]
     },
     "execution_count": 49,
     "metadata": {},
     "output_type": "execute_result"
    }
   ],
   "source": [
    "train_data"
   ]
  },
  {
   "cell_type": "code",
   "execution_count": 50,
   "metadata": {},
   "outputs": [],
   "source": [
    "# Reshape both train and test data\n",
    "train_data = train_data.reshape(-1)\n",
    "\n",
    "# Normalize test data\n",
    "test_data = data_normalizer.transform(test_data).reshape(-1)"
   ]
  },
  {
   "cell_type": "code",
   "execution_count": null,
   "metadata": {},
   "outputs": [],
   "source": [
    "# Perform exponential moving average smoothing(Only on train data)\n",
    "# So the data will have a smoother curve than the original ragged data\n",
    "EMA = 0.0\n",
    "gamma = 0.1\n",
    "for ti in range(11000):\n",
    "  EMA = gamma*train_data[ti] + (1-gamma)*EMA\n",
    "  train_data[ti] = EMA\n",
    "\n",
    "# Used for visualization and test purposes\n",
    "all__data = np.concatenate([train_data,test_data],axis=0)"
   ]
  }
 ],
 "metadata": {
  "kernelspec": {
   "display_name": "Python 3",
   "language": "python",
   "name": "python3"
  },
  "language_info": {
   "codemirror_mode": {
    "name": "ipython",
    "version": 3
   },
   "file_extension": ".py",
   "mimetype": "text/x-python",
   "name": "python",
   "nbconvert_exporter": "python",
   "pygments_lexer": "ipython3",
   "version": "3.7.6"
  }
 },
 "nbformat": 4,
 "nbformat_minor": 4
}
